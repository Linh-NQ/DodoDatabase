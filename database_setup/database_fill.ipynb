{
 "cells": [
  {
   "cell_type": "code",
   "execution_count": null,
   "id": "e9ae5fa4",
   "metadata": {},
   "outputs": [],
   "source": [
    "# Vorlage zum Füllen der Dodo-Datenbank"
   ]
  },
  {
   "cell_type": "code",
   "execution_count": 1,
   "id": "41fde235",
   "metadata": {},
   "outputs": [],
   "source": [
    "import pandas as pd\n",
    "import sqlite3\n",
    "import glob\n",
    "from sqlalchemy import create_engine"
   ]
  },
  {
   "cell_type": "code",
   "execution_count": 2,
   "id": "5b2e4e5c",
   "metadata": {},
   "outputs": [],
   "source": [
    "# Verbindung mit Datenbank\n",
    "conn = sqlite3.connect('datenbank.db')\n",
    "cursor = conn.cursor()\n",
    "\n",
    "# Datenbank mit Einträgen der Messsystem-Tabelle füllen\n",
    "files = glob.glob('O:/Datenmanagement/Befunde und Messsysteme/Messsysteme/1_Auftragslabore\\*.xlsx*')\n",
    "for i in range(len(files)):\n",
    "    if 'Messsysteme und Preise aller Auftragslabore' in files[i]:\n",
    "        path = files[i]\n",
    "        break\n",
    "xls = pd.ExcelFile(path)\n",
    "# Alle Reiter in Liste wiedergeben\n",
    "sheet_names = xls.sheet_names\n",
    "sheet_names.remove('Tabelle1')\n",
    "# Alle Tabellen von Laboren ablesen\n",
    "tables = []\n",
    "for sheet in sheet_names:\n",
    "    df = pd.read_excel(path, sheet_name = sheet)\n",
    "    tables.append(df)\n",
    "\n",
    "# Tabellen richtig ordnen\n",
    "# bis auf LADR sind alle Tabellen gleich strukturiert\n",
    "for i in range(len(tables)):\n",
    "    if i != 6:\n",
    "        tables[i].columns = tables[i].iloc[1].tolist()\n",
    "        tables[i] = tables[i][['Parameter', 'Angebots- Preis \\n(excl. MwSt)', \n",
    "                               'Methode', 'Gerät', 'Hersteller/ Gerät']]\n",
    "        tables[i].columns = ['Parameter', 'Preis', 'Methode', 'Messsystem', 'Hersteller']\n",
    "        tables[i] = tables[i].iloc[2:]\n",
    "    else:\n",
    "        tables[i].columns = tables[i].iloc[2].tolist()\n",
    "        tables[i] = tables[i][['laboratory parameter', 'Angebots- Preis \\n(excl. MwSt)',\n",
    "                               'measuring method', 'measuring System', 'manufacturer of measuring system']]\n",
    "        tables[i].columns = ['Parameter', 'Preis', 'Methode', 'Messsystem', 'Hersteller']\n",
    "        tables[i] = tables[i].iloc[3:]"
   ]
  },
  {
   "cell_type": "code",
   "execution_count": 3,
   "id": "31a10032",
   "metadata": {},
   "outputs": [],
   "source": [
    "# Eintrag für Fibrinogen generieren\n",
    "\n",
    "# Tabelle namen\n",
    "query = ''' INSERT INTO namen (name, weitere_namen, abkürzungen)\n",
    "            VALUES ('Fibrinogen', 'Gerinnungsfaktor I', 'FI');'''\n",
    "cursor.execute(query)\n",
    "\n",
    "# Tabelle biochemie\n",
    "query = ''' INSERT INTO biochemie (name, molekulare_masse, aminosäuren, oligomerisierung)\n",
    "            VALUES ('Fibrinogen', '340 kDa', 'Heterohexamer', 'Glykoprotein');'''\n",
    "cursor.execute(query)\n",
    "\n",
    "# Tabelle funktionen\n",
    "query = ''' INSERT INTO funktionen (name, synthetisierendes_gewebe, elektrophorese, immunsystem, hauptfunktion)\n",
    "            VALUES ('Fibrinogen', 'Leber', 'Fibrinogen', 'acute phase', 'Gerinnungsfaktor');'''\n",
    "cursor.execute(query)\n",
    "\n",
    "# Tabelle diagnostik\n",
    "query = ''' INSERT INTO diagnostik (name, biomaterial, referenzbereich, erhöhte_werte, erniedrigte_werte)\n",
    "            VALUES ('Fibrinogen', 'Plasma', '200 - 400 mg/dL', 'akute Infektion', 'Hypofibrinogenämie, Dysfibrinogenämie, Afibrinogenämie');'''\n",
    "cursor.execute(query)\n",
    "\n",
    "# Tabelle abreicherung\n",
    "query = '''INSERT INTO abreicherung (name, methodenname, methode)\n",
    "            VALUES ('Fibrinogen', 'Test für Methode', 'hier kommt der Text hin blabla test test');'''\n",
    "cursor.execute(query)\n",
    "\n",
    "query = '''INSERT INTO abreicherung (name, methodenname, methode)\n",
    "            VALUES ('Fibrinogen', 'Test für Methode 2', 'Lorem ipsum dolor sit amet, consetetur sadipscing elitr, sed diam nonumy eirmod tempor invidunt ut labore et dolore magna aliquyam erat, sed diam voluptua. At vero eos et accusam et justo duo dolores et ea rebum. Stet clita kasd gubergren, no sea takimata sanctus est Lorem ipsum dolor sit amet. Lorem ipsum dolor sit amet, consetetur sadipscing elitr, sed diam nonumy eirmod tempor invidunt ut labore et dolore magna aliquyam erat, sed diam voluptua. At vero eos et accusam et justo duo dolores et ea rebum. Stet clita kasd gubergren, no sea takimata sanctus est Lorem ipsum dolor sit amet.');'''\n",
    "cursor.execute(query)\n",
    "\n",
    "conn.commit()"
   ]
  },
  {
   "cell_type": "code",
   "execution_count": null,
   "id": "4cf94ebb",
   "metadata": {},
   "outputs": [],
   "source": []
  }
 ],
 "metadata": {
  "kernelspec": {
   "display_name": "Python 3 (ipykernel)",
   "language": "python",
   "name": "python3"
  },
  "language_info": {
   "codemirror_mode": {
    "name": "ipython",
    "version": 3
   },
   "file_extension": ".py",
   "mimetype": "text/x-python",
   "name": "python",
   "nbconvert_exporter": "python",
   "pygments_lexer": "ipython3",
   "version": "3.9.16"
  }
 },
 "nbformat": 4,
 "nbformat_minor": 5
}
