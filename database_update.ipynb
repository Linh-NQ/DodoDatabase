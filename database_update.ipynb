{
 "cells": [
  {
   "cell_type": "code",
   "execution_count": 1,
   "id": "ed51833d",
   "metadata": {},
   "outputs": [],
   "source": [
    "import sys\n",
    "import pandas as pd\n",
    "import sqlite3\n",
    "import glob\n",
    "from sqlalchemy import create_engine\n",
    "conn = sqlite3.connect('datenbank.db')\n",
    "cursor = conn.cursor()"
   ]
  },
  {
   "cell_type": "code",
   "execution_count": 2,
   "id": "dd4063ad",
   "metadata": {},
   "outputs": [
    {
     "ename": "SystemExit",
     "evalue": "0",
     "output_type": "error",
     "traceback": [
      "An exception has occurred, use %tb to see the full traceback.\n",
      "\u001b[1;31mSystemExit\u001b[0m\u001b[1;31m:\u001b[0m 0\n"
     ]
    },
    {
     "name": "stderr",
     "output_type": "stream",
     "text": [
      "C:\\Users\\l.nguyen quoc\\Anaconda3\\lib\\site-packages\\IPython\\core\\interactiveshell.py:3468: UserWarning: To exit: use 'exit', 'quit', or Ctrl-D.\n",
      "  warn(\"To exit: use 'exit', 'quit', or Ctrl-D.\", stacklevel=1)\n"
     ]
    }
   ],
   "source": [
    "def update_database():\n",
    "    try:\n",
    "        # Analytik-Daten aus Messsystem-Tabelle ablesen\n",
    "        files = glob.glob('O:/Datenmanagement/Befunde und Messsysteme/Messsysteme/1_Auftragslabore\\*.xlsx*')\n",
    "        for i in range(len(files)):\n",
    "            if 'Messsysteme und Preise aller Auftragslabore' in files[i]:\n",
    "                path = files[i]\n",
    "                break\n",
    "        xls = pd.ExcelFile(path)\n",
    "        # Alle Reiter in Liste wiedergeben\n",
    "        sheet_names = xls.sheet_names\n",
    "        sheet_names.remove('Tabelle1')\n",
    "        # Alle Tabellen von Laboren ablesen\n",
    "        tables = []\n",
    "        for sheet in sheet_names:\n",
    "            df = pd.read_excel(path, sheet_name = sheet)\n",
    "            tables.append(df)\n",
    "\n",
    "        # Tabellen richtig ordnen\n",
    "        # bis auf LADR sind alle Tabellen gleich strukturiert\n",
    "        for i in range(len(tables)):\n",
    "            if i != 6:\n",
    "                tables[i].columns = tables[i].iloc[1].tolist()\n",
    "                tables[i] = tables[i][['Parameter', 'Angebots- Preis \\n(excl. MwSt)', \n",
    "                                       'Methode', 'Gerät', 'Hersteller/ Gerät']]\n",
    "                tables[i].columns = ['Parameter', 'Preis', 'Methode', 'Messsystem', 'Hersteller']\n",
    "                tables[i] = tables[i].iloc[2:]\n",
    "            else:\n",
    "                tables[i].columns = tables[i].iloc[2].tolist()\n",
    "                tables[i] = tables[i][['laboratory parameter', 'Angebots- Preis \\n(excl. MwSt)',\n",
    "                                       'measuring method', 'measuring System', 'manufacturer of measuring system']]\n",
    "                tables[i].columns = ['Parameter', 'Preis', 'Methode', 'Messsystem', 'Hersteller']\n",
    "                tables[i] = tables[i].iloc[3:]\n",
    "\n",
    "        # Liste aller Parameter in Datenbank\n",
    "        query = \"SELECT name FROM namen\"\n",
    "        engine = create_engine(\"sqlite:///datenbank.db\")\n",
    "        parameter = pd.read_sql(query, engine)\n",
    "        parameter_liste = list(parameter['name'])\n",
    "\n",
    "        # Tabelle analytik leeren\n",
    "        query = \"DELETE FROM analytik;\"\n",
    "        cursor.execute(query)\n",
    "\n",
    "        # Suche in der ersten Spalte der Tabellen nach Parameter\n",
    "        # Identifizieren des Labors\n",
    "        for parameter in parameter_liste:\n",
    "            labor = []\n",
    "            for i in range(len(tables)):\n",
    "                for j in range(len(tables[i])):\n",
    "                    if parameter in str(tables[i].iloc[j,0]):\n",
    "                        labor.append(sheet_names[i])\n",
    "                        break\n",
    "\n",
    "            # Ablesen der Messsysteme, Tests etc.\n",
    "            for lab in labor:\n",
    "                table = tables[sheet_names.index(lab)]\n",
    "                parameter_rows = []\n",
    "                for i in range(len(table)):\n",
    "                    if parameter in table.iloc[i,0]:\n",
    "                        parameter_rows.append(i)\n",
    "                table_parameter = table.iloc[parameter_rows,1:]\n",
    "                table_parameter = table_parameter.reset_index().drop('index', axis=1)\n",
    "                # Eintrag in Datenbank\n",
    "                for i in range(len(table_parameter)):\n",
    "                    meth = table_parameter.iloc[i,1]\n",
    "                    messsys = table_parameter.iloc[i,2]\n",
    "                    herst = table_parameter.iloc[i,3]\n",
    "                    try:\n",
    "                        pr = round(table_parameter.iloc[i,0], 2)\n",
    "                    except:\n",
    "                        pr = table_parameter.iloc[i,0]\n",
    "                    query = '''INSERT INTO analytik (name, labor, methode, messsystem, hersteller, preis)\n",
    "                               VALUES (?, ?, ?, ?, ?, ?);'''\n",
    "                    cursor.execute(query, (parameter, lab, meth, messsys, herst, pr))\n",
    "\n",
    "        conn.commit()\n",
    "        return True\n",
    "    except:\n",
    "        return False\n",
    "    \n",
    "if __name__ == \"__main__\":\n",
    "    if update_database():\n",
    "        sys.exit(0)  # Return 0 for success\n",
    "    else:\n",
    "        sys.exit(1)  # Return non-zero value for failure"
   ]
  },
  {
   "cell_type": "code",
   "execution_count": null,
   "id": "e955dc4e",
   "metadata": {},
   "outputs": [],
   "source": []
  }
 ],
 "metadata": {
  "kernelspec": {
   "display_name": "Python 3 (ipykernel)",
   "language": "python",
   "name": "python3"
  },
  "language_info": {
   "codemirror_mode": {
    "name": "ipython",
    "version": 3
   },
   "file_extension": ".py",
   "mimetype": "text/x-python",
   "name": "python",
   "nbconvert_exporter": "python",
   "pygments_lexer": "ipython3",
   "version": "3.9.16"
  }
 },
 "nbformat": 4,
 "nbformat_minor": 5
}
